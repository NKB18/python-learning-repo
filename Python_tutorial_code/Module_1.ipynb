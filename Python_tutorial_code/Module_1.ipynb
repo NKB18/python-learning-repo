{
 "cells": [
  {
   "cell_type": "code",
   "execution_count": 3,
   "metadata": {},
   "outputs": [
    {
     "name": "stdout",
     "output_type": "stream",
     "text": [
      "15\n"
     ]
    }
   ],
   "source": [
    "num_1 = 1\n",
    "num_2 = 10\n",
    "sum_1_2 = num_1 + num_2\n",
    "print(sum_1_2)\n"
   ]
  },
  {
   "cell_type": "code",
   "execution_count": 6,
   "metadata": {},
   "outputs": [
    {
     "name": "stdout",
     "output_type": "stream",
     "text": [
      "100000\n",
      "50\n",
      "0.5\n"
     ]
    }
   ],
   "source": [
    "x = 10\n",
    "y = 5\n",
    "print(x ** y)\n",
    "print(y * x)\n",
    "print(y/x)"
   ]
  },
  {
   "cell_type": "code",
   "execution_count": 9,
   "metadata": {},
   "outputs": [
    {
     "name": "stdout",
     "output_type": "stream",
     "text": [
      "80\n"
     ]
    }
   ],
   "source": [
    "x = 8\n",
    "y = 10\n",
    "z = x * y\n",
    "print(z)"
   ]
  },
  {
   "cell_type": "code",
   "execution_count": 20,
   "metadata": {},
   "outputs": [
    {
     "name": "stdout",
     "output_type": "stream",
     "text": [
      "12.56\n"
     ]
    }
   ],
   "source": [
    "pi = 3.14\n",
    "rad = 2\n",
    "area = pi * rad ** 2\n",
    "print(area)"
   ]
  },
  {
   "cell_type": "code",
   "execution_count": 23,
   "metadata": {},
   "outputs": [
    {
     "name": "stdout",
     "output_type": "stream",
     "text": [
      "Will teacher\n",
      "My Will is and I am the teacher.\n"
     ]
    }
   ],
   "source": [
    "name = \"Will\"\n",
    "job = \"teacher\"\n",
    "longer_string = name + \" \" + job\n",
    "print(longer_string)\n",
    "\n",
    "phrase = f\"My name is {name} and I am the {job}.\"\n",
    "print(phrase)"
   ]
  },
  {
   "cell_type": "code",
   "execution_count": 26,
   "metadata": {},
   "outputs": [
    {
     "name": "stdout",
     "output_type": "stream",
     "text": [
      "My name is Nina and I am an Intelligence Analyst.\n"
     ]
    }
   ],
   "source": [
    "name = \"Nina\"\n",
    "job = \"Intelligence Analyst\"\n",
    "phrase = f\"My name is {name} and I am an {job}.\"\n",
    "print(phrase)"
   ]
  },
  {
   "cell_type": "code",
   "execution_count": 27,
   "metadata": {},
   "outputs": [
    {
     "name": "stdout",
     "output_type": "stream",
     "text": [
      "The rate of cin plans per 10k children is 82.0\n"
     ]
    }
   ],
   "source": [
    "cin_plan = 123\n",
    "total_pop = 15000\n",
    "rp10k = cin_plan / total_pop * 10000\n",
    "explanation = f\"The rate of cin plans per 10k children is {rp10k}\"\n",
    "print(explanation)"
   ]
  },
  {
   "cell_type": "code",
   "execution_count": 38,
   "metadata": {},
   "outputs": [
    {
     "name": "stdout",
     "output_type": "stream",
     "text": [
      "c://desktop/data/903_header.csv\n",
      "p\n",
      "p/data/903_\n",
      ".csv\n",
      "903_header\n",
      "The filename is: 903_header\n"
     ]
    }
   ],
   "source": [
    "filename = \"c://desktop/data/903_header.csv\"\n",
    "print(filename)\n",
    "\n",
    "substring = filename [10]\n",
    "print(substring)\n",
    "# [start:stop:step]\n",
    "substring_2 = filename[10:21]\n",
    "print(substring_2)\n",
    "\n",
    "substring_3 = filename[-4:]\n",
    "print(substring_3)\n",
    "\n",
    "substring_4 = filename[17:-4]\n",
    "long_phrase = f\"The filename is: {substring_4}\"\n",
    "print(substring_4)\n",
    "print(long_phrase)"
   ]
  },
  {
   "cell_type": "code",
   "execution_count": 39,
   "metadata": {},
   "outputs": [
    {
     "name": "stdout",
     "output_type": "stream",
     "text": [
      "esarhp siht esreve\n"
     ]
    }
   ],
   "source": [
    "phrase = \"reverse this phrase\"\n",
    "reversed = phrase[-1:0:-1]\n",
    "print(reversed)"
   ]
  },
  {
   "cell_type": "code",
   "execution_count": 40,
   "metadata": {},
   "outputs": [
    {
     "name": "stdout",
     "output_type": "stream",
     "text": [
      "dog\n",
      "cat\n",
      "racoon\n"
     ]
    }
   ],
   "source": [
    "slice_this_phrase = \"dog cat racoon\"\n",
    "animal_1 = slice_this_phrase [0:3]\n",
    "animal_2 = slice_this_phrase [4:7]\n",
    "animal_3 = slice_this_phrase [8:]\n",
    "print(animal_1)\n",
    "print(animal_2)\n",
    "print(animal_3)"
   ]
  },
  {
   "cell_type": "code",
   "execution_count": 42,
   "metadata": {},
   "outputs": [
    {
     "name": "stdout",
     "output_type": "stream",
     "text": [
      "[1, 'reverse this phrase', 'The filename is: 903_header', 'hi']\n"
     ]
    }
   ],
   "source": [
    "list_1 = [1, phrase, long_phrase, \"hi\"]\n",
    "print(list_1)"
   ]
  },
  {
   "cell_type": "code",
   "execution_count": 47,
   "metadata": {},
   "outputs": [
    {
     "name": "stdout",
     "output_type": "stream",
     "text": [
      "['red', 'blue', 'green', 'purple']\n"
     ]
    }
   ],
   "source": [
    "colours = [\"red\", \"blue\", \"green\", \"purple\"]\n",
    "print(colours)"
   ]
  },
  {
   "cell_type": "code",
   "execution_count": 56,
   "metadata": {},
   "outputs": [
    {
     "name": "stdout",
     "output_type": "stream",
     "text": [
      "['green', 'purple']\n",
      "['teal', 'orange']\n",
      "['red', 'blue', 'green', 'purple', ['teal', 'orange'], 'brown', 'gold', 'white']\n",
      "['red', 'blue', 'green', 'purple', ['teal', 'orange'], 'brown', 'gold', 'white', 'red']\n",
      "['blue', 'green', 'purple', ['teal', 'orange'], 'brown', 'gold', 'white', 'red']\n"
     ]
    }
   ],
   "source": [
    "colours = [\"red\", \"blue\", \"green\", \"purple\"]\n",
    "#start:stop:step\n",
    "print(colours[2:])\n",
    "\n",
    "colours.append([\"teal\", \"orange\"])\n",
    "print(colours[4])\n",
    "\n",
    "more_colours = [\"brown\", \"gold\", \"white\"]\n",
    "colours.extend(more_colours)\n",
    "print(colours)\n",
    "\n",
    "colours.append(\"red\")\n",
    "print(colours)\n",
    "\n",
    "colours.remove(\"red\")\n",
    "print(colours)"
   ]
  }
 ],
 "metadata": {
  "kernelspec": {
   "display_name": "Python 3",
   "language": "python",
   "name": "python3"
  },
  "language_info": {
   "codemirror_mode": {
    "name": "ipython",
    "version": 3
   },
   "file_extension": ".py",
   "mimetype": "text/x-python",
   "name": "python",
   "nbconvert_exporter": "python",
   "pygments_lexer": "ipython3",
   "version": "3.10.13"
  }
 },
 "nbformat": 4,
 "nbformat_minor": 2
}
